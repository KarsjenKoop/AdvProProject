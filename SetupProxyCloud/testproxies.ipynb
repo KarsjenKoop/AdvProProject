{
 "cells": [
  {
   "cell_type": "code",
   "execution_count": null,
   "metadata": {},
   "outputs": [
    {
     "name": "stdout",
     "output_type": "stream",
     "text": [
      "Testing proxies:\n",
      "Proxy 35.238.223.214 is working. Response: {'origin': '89.20.175.53, 35.238.223.214'}\n",
      "Proxy 34.59.65.223 is working. Response: {'origin': '89.20.175.53, 34.59.65.223'}\n",
      "Proxy 35.239.76.161 is working. Response: {'origin': '89.20.175.53, 35.239.76.161'}\n",
      "Proxy 35.232.58.4 is working. Response: {'origin': '89.20.175.53, 35.232.58.4'}\n",
      "Proxy 34.121.97.34 is working. Response: {'origin': '89.20.175.53, 34.121.97.34'}\n",
      "Proxy 34.29.252.80 is working. Response: {'origin': '89.20.175.53, 34.29.252.80'}\n",
      "Proxy 34.55.178.158 is working. Response: {'origin': '89.20.175.53, 34.55.178.158'}\n",
      "Proxy 34.170.186.168 is working. Response: {'origin': '89.20.175.53, 34.170.186.168'}\n"
     ]
    }
   ],
   "source": [
    "import subprocess\n",
    "import json\n",
    "import requests\n",
    "\n",
    "def get_proxy_ips():\n",
    "    \"\"\"\n",
    "    Runs 'terraform output -json' and returns a list of proxy IPs.\n",
    "    \"\"\"\n",
    "    try:\n",
    "        result = subprocess.run(\n",
    "            [\"terraform\", \"output\", \"-json\"],\n",
    "            capture_output=True,\n",
    "            text=True,\n",
    "            check=True\n",
    "        )\n",
    "        outputs = json.loads(result.stdout)\n",
    "        proxy_ips = outputs.get(\"proxy_ips\", {}).get(\"value\", [])\n",
    "        return proxy_ips\n",
    "    except subprocess.CalledProcessError as e:\n",
    "        print(\"Error executing terraform output:\", e)\n",
    "        return []\n",
    "    except json.JSONDecodeError as e:\n",
    "        print(\"Error decoding JSON output:\", e)\n",
    "        return []\n",
    "\n",
    "def test_proxy(proxy_url):\n",
    "    \"\"\"\n",
    "    Tests the given proxy URL by sending a GET request to http://httpbin.org/ip.\n",
    "    Returns a tuple (success, response or error message).\n",
    "    \"\"\"\n",
    "    try:\n",
    "        # Use both http and https proxies; adjust if needed.\n",
    "        response = requests.get(\n",
    "            \"http://httpbin.org/ip\",\n",
    "            proxies={\"http\": proxy_url, \"https\": proxy_url},\n",
    "            timeout=10\n",
    "        )\n",
    "        if response.status_code == 200:\n",
    "            return True, response.json()\n",
    "        else:\n",
    "            return False, f\"Status code: {response.status_code}\"\n",
    "    except Exception as e:\n",
    "        return False, str(e)\n",
    "\n",
    "if __name__ == \"__main__\":\n",
    "    # Set your Squid credentials (should match those defined in your Terraform variables)\n",
    "    squid_username = \"username\"  # Replace with your actual username\n",
    "    squid_password = \"password\"  # Replace with your actual password\n",
    "    proxy_port = 3128  # The port Squid is listening on\n",
    "\n",
    "    # Get the list of proxy IPs from Terraform outputs\n",
    "    proxies = get_proxy_ips()\n",
    "    if not proxies:\n",
    "        print(\"No proxy IPs found. Ensure that Terraform has output proxies correctly.\")\n",
    "        exit(1)\n",
    "\n",
    "    print(\"Testing proxies:\")\n",
    "    for ip in proxies:\n",
    "        # Build the proxy URL with basic auth: http://username:password@ip:port\n",
    "        proxy_url = f\"http://{squid_username}:{squid_password}@{ip}:{proxy_port}\"\n",
    "        success, info = test_proxy(proxy_url)\n",
    "        if success:\n",
    "            print(f\"Proxy {ip} is working. Response: {info}\")\n",
    "        else:\n",
    "            print(f\"Proxy {ip} failed. Error: {info}\")"
   ]
  }
 ],
 "metadata": {
  "kernelspec": {
   "display_name": "tensorflow",
   "language": "python",
   "name": "python3"
  },
  "language_info": {
   "codemirror_mode": {
    "name": "ipython",
    "version": 3
   },
   "file_extension": ".py",
   "mimetype": "text/x-python",
   "name": "python",
   "nbconvert_exporter": "python",
   "pygments_lexer": "ipython3",
   "version": "3.10.13"
  }
 },
 "nbformat": 4,
 "nbformat_minor": 2
}
