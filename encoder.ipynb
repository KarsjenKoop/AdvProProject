{
 "cells": [
  {
   "cell_type": "code",
   "execution_count": null,
   "metadata": {},
   "outputs": [],
   "source": [
    "from StockClustering import StockAutoencoderClustering\n",
    "\n",
    "# Initialize the class with your CSV file containing stock data\n",
    "sac = StockAutoencoderClustering(csv_file='stock_data.csv', timesteps=251, latent_dim=8)\n",
    "\n",
    "# Data Preparation\n",
    "sac.prepare_data()\n",
    "sac.normalize_data()\n",
    "\n",
    "# Build and Train the Autoencoder\n",
    "sac.build_autoencoder()\n",
    "history = sac.train_autoencoder(epochs=20, batch_size=64)\n",
    "\n",
    "# Save the trained models for later use\n",
    "sac.save_models(base_path=\"my_stock_model\")\n",
    "\n",
    "# In a later session, load the models:\n",
    "sac.load_models(base_path=\"my_stock_model\")\n",
    "\n",
    "# Extract latent vectors\n",
    "latent_vectors = sac.extract_latent_vectors()\n",
    "\n",
    "# Perform clustering using KMeans (other methods available: 'agglomerative', 'dbscan', 'gmm')\n",
    "clusters = sac.cluster_data(n_clusters=1000, method='kmeans')\n",
    "\n",
    "# Retrieve and display clustering results as a DataFrame\n",
    "cluster_df = sac.get_cluster_dataframe(method='kmeans')\n",
    "print(cluster_df)\n",
    "\n",
    "# Plot clusters interactively\n",
    "sac.plot_clusters(method='kmeans')\n",
    "\n",
    "# --- Optionally run multiple clustering methods ---\n",
    "cluster_results = sac.cluster_all_methods(n_clusters=10)\n",
    "for method in cluster_results.keys():\n",
    "    print(f\"Clustering method: {method}\")\n",
    "    print(sac.get_cluster_dataframe(method=method))\n",
    "    sac.plot_clusters(method=method)"
   ]
  }
 ],
 "metadata": {
  "kernelspec": {
   "display_name": "stockclusteringenv",
   "language": "python",
   "name": "python3"
  },
  "language_info": {
   "codemirror_mode": {
    "name": "ipython",
    "version": 3
   },
   "file_extension": ".py",
   "mimetype": "text/x-python",
   "name": "python",
   "nbconvert_exporter": "python",
   "pygments_lexer": "ipython3",
   "version": "3.10.13"
  }
 },
 "nbformat": 4,
 "nbformat_minor": 2
}
